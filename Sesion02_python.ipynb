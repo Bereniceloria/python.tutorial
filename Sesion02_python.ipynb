{
  "nbformat": 4,
  "nbformat_minor": 0,
  "metadata": {
    "colab": {
      "name": "Sesion02_python.ipynb",
      "provenance": [],
      "authorship_tag": "ABX9TyOdgJshk4z19uwzDVGqiWzx",
      "include_colab_link": true
    },
    "kernelspec": {
      "name": "python3",
      "display_name": "Python 3"
    }
  },
  "cells": [
    {
      "cell_type": "markdown",
      "metadata": {
        "id": "view-in-github",
        "colab_type": "text"
      },
      "source": [
        "<a href=\"https://colab.research.google.com/github/Bereniceloria/python.tutorial/blob/main/Sesion02_python.ipynb\" target=\"_parent\"><img src=\"https://colab.research.google.com/assets/colab-badge.svg\" alt=\"Open In Colab\"/></a>"
      ]
    },
    {
      "cell_type": "code",
      "metadata": {
        "id": "loIR1UK5wuVR",
        "outputId": "69e9c8c2-2791-4302-fcb8-e8361e98973b",
        "colab": {
          "base_uri": "https://localhost:8080/"
        }
      },
      "source": [
        "#variable\n",
        "x = 8\n",
        "print(x)"
      ],
      "execution_count": 2,
      "outputs": [
        {
          "output_type": "stream",
          "text": [
            "8\n"
          ],
          "name": "stdout"
        }
      ]
    },
    {
      "cell_type": "code",
      "metadata": {
        "id": "M0P5hI8qyiHX",
        "outputId": "d2d489f7-c8a5-4618-af5c-1d63fd0f850e",
        "colab": {
          "base_uri": "https://localhost:8080/"
        }
      },
      "source": [
        "#variable \n",
        "nombres = \"Juan\"\n",
        "print(nombres)"
      ],
      "execution_count": 3,
      "outputs": [
        {
          "output_type": "stream",
          "text": [
            "Juan\n"
          ],
          "name": "stdout"
        }
      ]
    },
    {
      "cell_type": "code",
      "metadata": {
        "id": "SSBgd3NBy24e",
        "outputId": "30e01f87-cb39-48b9-8575-ce95bf8bd405",
        "colab": {
          "base_uri": "https://localhost:8080/"
        }
      },
      "source": [
        "print(type(nombres)) "
      ],
      "execution_count": 5,
      "outputs": [
        {
          "output_type": "stream",
          "text": [
            "<class 'str'>\n"
          ],
          "name": "stdout"
        }
      ]
    },
    {
      "cell_type": "code",
      "metadata": {
        "id": "58JJD_Lay87O",
        "outputId": "63644406-f82d-4de1-a8ef-e49e0acc1910",
        "colab": {
          "base_uri": "https://localhost:8080/"
        }
      },
      "source": [
        "nombres = 10\n",
        "print(type(nombres))"
      ],
      "execution_count": 7,
      "outputs": [
        {
          "output_type": "stream",
          "text": [
            "<class 'int'>\n"
          ],
          "name": "stdout"
        }
      ]
    },
    {
      "cell_type": "code",
      "metadata": {
        "id": "UWS2xliXzB6O",
        "outputId": "cad3c5d7-e19b-4ef0-ce68-00e3974474ac",
        "colab": {
          "base_uri": "https://localhost:8080/"
        }
      },
      "source": [
        "nombres = \"10\"\n",
        "print(type(nombres))"
      ],
      "execution_count": 8,
      "outputs": [
        {
          "output_type": "stream",
          "text": [
            "<class 'str'>\n"
          ],
          "name": "stdout"
        }
      ]
    },
    {
      "cell_type": "code",
      "metadata": {
        "id": "SgozQJrmzPeu"
      },
      "source": [
        "#variable\n",
        "x = 8 \n",
        "y = x \n"
      ],
      "execution_count": 9,
      "outputs": []
    },
    {
      "cell_type": "code",
      "metadata": {
        "id": "cUP3OEe90Do-",
        "outputId": "390811de-1291-4324-e2f9-0ebba3094d14",
        "colab": {
          "base_uri": "https://localhost:8080/"
        }
      },
      "source": [
        "#Variable \n",
        "x = 8 #1\n",
        "print(type(x)) #2\n",
        "x = 'Juan' #3\n",
        "print(type(x)) #4\n"
      ],
      "execution_count": 10,
      "outputs": [
        {
          "output_type": "stream",
          "text": [
            "<class 'int'>\n",
            "<class 'str'>\n"
          ],
          "name": "stdout"
        }
      ]
    },
    {
      "cell_type": "code",
      "metadata": {
        "id": "2pVEUDth0T3e",
        "outputId": "31f64be2-6f24-47db-f608-fa697e8cf378",
        "colab": {
          "base_uri": "https://localhost:8080/"
        }
      },
      "source": [
        "nombres = 'Juan Miguel'\n",
        "apellidos = 'Salinas Ponce'\n",
        "edad = 18 \n",
        "nombres_apellidos = 'Juan Miguel'\n",
        "print(\"tu nombre es:\", nombres, 'tu apellido es:', apellidos, 'tu edad es:', edad)"
      ],
      "execution_count": 13,
      "outputs": [
        {
          "output_type": "stream",
          "text": [
            "tu nombre es: Juan Miguel tu apellido es: Salinas Ponce tu edad es: 18\n"
          ],
          "name": "stdout"
        }
      ]
    },
    {
      "cell_type": "code",
      "metadata": {
        "id": "ShI44r8G4Gnv",
        "outputId": "f507fc0e-8c9b-4792-d5d3-6e45d65c1ba1",
        "colab": {
          "base_uri": "https://localhost:8080/"
        }
      },
      "source": [
        "#TIPO BOOL SIEMPRE TRUE O FALSE\n",
        "b1 = True\n",
        "b2 = \"True\"\n",
        "b3 = False\n",
        "type(b1)\n",
        "type(b2)"
      ],
      "execution_count": 17,
      "outputs": [
        {
          "output_type": "execute_result",
          "data": {
            "text/plain": [
              "str"
            ]
          },
          "metadata": {
            "tags": []
          },
          "execution_count": 17
        }
      ]
    },
    {
      "cell_type": "code",
      "metadata": {
        "id": "Un5VSG7k5k9u",
        "outputId": "2be1c078-847a-4383-c239-afa0806b2658",
        "colab": {
          "base_uri": "https://localhost:8080/"
        }
      },
      "source": [
        "#NUMÉRICOS\n",
        "\n",
        "num_entero = 8 \n",
        "print(type(num_entero))"
      ],
      "execution_count": 18,
      "outputs": [
        {
          "output_type": "stream",
          "text": [
            "<class 'int'>\n"
          ],
          "name": "stdout"
        }
      ]
    },
    {
      "cell_type": "code",
      "metadata": {
        "id": "lHEdN-tB6HNt",
        "outputId": "697d4235-cb1b-48c5-cdf1-35c9b75666c3",
        "colab": {
          "base_uri": "https://localhost:8080/"
        }
      },
      "source": [
        "#en el contexto de los números enteros\n",
        "num_negativo = -100\n",
        "print(type(num_negativo))\n"
      ],
      "execution_count": 19,
      "outputs": [
        {
          "output_type": "stream",
          "text": [
            "<class 'int'>\n"
          ],
          "name": "stdout"
        }
      ]
    },
    {
      "cell_type": "code",
      "metadata": {
        "id": "KGuDr7t16TRc",
        "outputId": "156aef58-a2fd-406a-e976-3797742a8da6",
        "colab": {
          "base_uri": "https://localhost:8080/"
        }
      },
      "source": [
        "num_real = 4.5\n",
        "print(type(num_real))"
      ],
      "execution_count": 20,
      "outputs": [
        {
          "output_type": "stream",
          "text": [
            "<class 'float'>\n"
          ],
          "name": "stdout"
        }
      ]
    },
    {
      "cell_type": "code",
      "metadata": {
        "id": "jSxuHHnl6gH7",
        "outputId": "846e0052-c033-4327-b0c5-e086dfdc90c4",
        "colab": {
          "base_uri": "https://localhost:8080/"
        }
      },
      "source": [
        "#otra manera de expresar un número real es:\n",
        "num_real = 0.5e-7\n",
        "print(type(num_real))"
      ],
      "execution_count": 21,
      "outputs": [
        {
          "output_type": "stream",
          "text": [
            "<class 'float'>\n"
          ],
          "name": "stdout"
        }
      ]
    },
    {
      "cell_type": "code",
      "metadata": {
        "id": "sYEV-24m6t1M",
        "outputId": "9b07b576-4e60-44ca-fb0f-36b1277122ca",
        "colab": {
          "base_uri": "https://localhost:8080/"
        }
      },
      "source": [
        "#números formados por una parte real y otra imaginaria\n",
        "num_complejo = 3.2 + 7j\n",
        "print(type(num_complejo))"
      ],
      "execution_count": 22,
      "outputs": [
        {
          "output_type": "stream",
          "text": [
            "<class 'complex'>\n"
          ],
          "name": "stdout"
        }
      ]
    },
    {
      "cell_type": "code",
      "metadata": {
        "id": "8vCDNwFl63l7",
        "outputId": "fb0c864a-0cd3-4d4f-fb39-894dd11e0c6c",
        "colab": {
          "base_uri": "https://localhost:8080/"
        }
      },
      "source": [
        "#numeros fraccionarios\n",
        "numero = 1/2\n",
        "print(type(numero))\n",
        "print(numero)"
      ],
      "execution_count": 24,
      "outputs": [
        {
          "output_type": "stream",
          "text": [
            "<class 'float'>\n",
            "0.5\n"
          ],
          "name": "stdout"
        }
      ]
    },
    {
      "cell_type": "code",
      "metadata": {
        "id": "FXn_JHEm7Gf7",
        "outputId": "b53ca7f3-838d-4cd2-d40e-12f8ce1d1774",
        "colab": {
          "base_uri": "https://localhost:8080/"
        }
      },
      "source": [
        "#numero binarios\n",
        "#el número 7 en binario se representa de la siguiente forma:\n",
        "num_binario = 0b111\n",
        "print(type(num_binario))"
      ],
      "execution_count": 25,
      "outputs": [
        {
          "output_type": "stream",
          "text": [
            "<class 'int'>\n"
          ],
          "name": "stdout"
        }
      ]
    },
    {
      "cell_type": "code",
      "metadata": {
        "id": "WV8_noUO7TTb",
        "outputId": "3687a54c-f752-4c87-e687-cdcbc8c96d86",
        "colab": {
          "base_uri": "https://localhost:8080/"
        }
      },
      "source": [
        "num_binario = 0b110\n",
        "print(num_binario)"
      ],
      "execution_count": 26,
      "outputs": [
        {
          "output_type": "stream",
          "text": [
            "6\n"
          ],
          "name": "stdout"
        }
      ]
    },
    {
      "cell_type": "code",
      "metadata": {
        "id": "nV2-hRFm7wF7",
        "outputId": "eb08b332-647a-44c2-835b-b6af8cf23038",
        "colab": {
          "base_uri": "https://localhost:8080/"
        }
      },
      "source": [
        "\n",
        "#el número 8 en octak se representa de la siguiente forma:\n",
        "num_octal = 0o10\n",
        "print(type(num_octal))\n",
        "print(num_octal)\n"
      ],
      "execution_count": 27,
      "outputs": [
        {
          "output_type": "stream",
          "text": [
            "<class 'int'>\n",
            "8\n"
          ],
          "name": "stdout"
        }
      ]
    },
    {
      "cell_type": "code",
      "metadata": {
        "id": "NaL5ze5n7727",
        "outputId": "5ad3d328-bbeb-407b-beea-feaccce1c2f2",
        "colab": {
          "base_uri": "https://localhost:8080/"
        }
      },
      "source": [
        "#el número 255 en el sistema hexadecimal se representa de la siguiente forma:\n",
        "num_hex = 0xff\n",
        "print(type(num_hex))\n",
        "print(num_hex)"
      ],
      "execution_count": 28,
      "outputs": [
        {
          "output_type": "stream",
          "text": [
            "<class 'int'>\n",
            "255\n"
          ],
          "name": "stdout"
        }
      ]
    },
    {
      "cell_type": "code",
      "metadata": {
        "id": "B7Iad1CR8Dz7",
        "outputId": "407dbd37-d6b0-468d-9d8c-1c6aa0c86720",
        "colab": {
          "base_uri": "https://localhost:8080/"
        }
      },
      "source": [
        "#CADENAS DE TEXTO \n",
        "cadena = \"esto es una cadena de texto\"\n",
        "print(cadena)\n",
        "print(type(cadena))\n",
        "cadena2 = \"\"\"Esta cadena de texto\n",
        "tiene más de una línea. En concreto, cuenta\n",
        "con tres líneas diferentes\"\"\"\n",
        "type(cadena2)"
      ],
      "execution_count": 31,
      "outputs": [
        {
          "output_type": "stream",
          "text": [
            "esto es una cadena de texto\n",
            "<class 'str'>\n"
          ],
          "name": "stdout"
        },
        {
          "output_type": "execute_result",
          "data": {
            "text/plain": [
              "str"
            ]
          },
          "metadata": {
            "tags": []
          },
          "execution_count": 31
        }
      ]
    },
    {
      "cell_type": "code",
      "metadata": {
        "id": "Ld5ept3I8Pi7",
        "outputId": "d278bb42-a79a-4abf-a1b6-074d6f39288f",
        "colab": {
          "base_uri": "https://localhost:8080/"
        }
      },
      "source": [
        "#BYTE\n",
        "cad = b\"cadena de tipo byte\"\n",
        "type(cad)\n"
      ],
      "execution_count": 32,
      "outputs": [
        {
          "output_type": "execute_result",
          "data": {
            "text/plain": [
              "bytes"
            ]
          },
          "metadata": {
            "tags": []
          },
          "execution_count": 32
        }
      ]
    },
    {
      "cell_type": "code",
      "metadata": {
        "id": "HQYu4ui59x9h",
        "outputId": "f1d8c744-81f2-4bfb-9a62-8b5185241b9e",
        "colab": {
          "base_uri": "https://localhost:8080/"
        }
      },
      "source": [
        "lat = bytearray(\"España\", \"latin1\")\n",
        "print(lat)"
      ],
      "execution_count": 33,
      "outputs": [
        {
          "output_type": "stream",
          "text": [
            "bytearray(b'Espa\\xf1a')\n"
          ],
          "name": "stdout"
        }
      ]
    },
    {
      "cell_type": "code",
      "metadata": {
        "id": "So7JuUKn-ByK",
        "outputId": "5d5e92b3-999b-490e-ebd9-296f13a58a3e",
        "colab": {
          "base_uri": "https://localhost:8080/"
        }
      },
      "source": [
        "pais = \"España\"\n",
        "array1 = bytearray(pais, 'utf-8') \n",
        "print(array1)"
      ],
      "execution_count": 34,
      "outputs": [
        {
          "output_type": "stream",
          "text": [
            "bytearray(b'Espa\\xc3\\xb1a')\n"
          ],
          "name": "stdout"
        }
      ]
    },
    {
      "cell_type": "code",
      "metadata": {
        "id": "VYyb-YjM-Q6b",
        "outputId": "dea7ccd2-98c9-4b65-9674-7732c599d81b",
        "colab": {
          "base_uri": "https://localhost:8080/"
        }
      },
      "source": [
        "bytearray(\"España\", \"utf16\")"
      ],
      "execution_count": 35,
      "outputs": [
        {
          "output_type": "execute_result",
          "data": {
            "text/plain": [
              "bytearray(b'\\xff\\xfeE\\x00s\\x00p\\x00a\\x00\\xf1\\x00a\\x00')"
            ]
          },
          "metadata": {
            "tags": []
          },
          "execution_count": 35
        }
      ]
    },
    {
      "cell_type": "code",
      "metadata": {
        "id": "_23hKMKI-Zq6",
        "outputId": "6b70c3af-00ec-4f2c-b3f7-7fff229f8fb9",
        "colab": {
          "base_uri": "https://localhost:8080/"
        }
      },
      "source": [
        "#encode(): transforma un tipo str en tipo byte\n",
        "cad = \"es de tipo str\"\n",
        "print(type(cad))\n",
        "cad.encode()"
      ],
      "execution_count": 36,
      "outputs": [
        {
          "output_type": "stream",
          "text": [
            "<class 'str'>\n"
          ],
          "name": "stdout"
        },
        {
          "output_type": "execute_result",
          "data": {
            "text/plain": [
              "b'es de tipo str'"
            ]
          },
          "metadata": {
            "tags": []
          },
          "execution_count": 36
        }
      ]
    },
    {
      "cell_type": "code",
      "metadata": {
        "id": "UHNOOz9M-yvs",
        "outputId": "6e406e68-b6db-4826-d161-64389ae1662a",
        "colab": {
          "base_uri": "https://localhost:8080/",
          "height": 35
        }
      },
      "source": [
        "#decode(): transforma un tipo byte en tipo str\n",
        "cad = b\"es de tipo byte\"\n",
        "cad.decode()"
      ],
      "execution_count": 37,
      "outputs": [
        {
          "output_type": "execute_result",
          "data": {
            "application/vnd.google.colaboratory.intrinsic+json": {
              "type": "string"
            },
            "text/plain": [
              "'es de tipo byte'"
            ]
          },
          "metadata": {
            "tags": []
          },
          "execution_count": 37
        }
      ]
    },
    {
      "cell_type": "code",
      "metadata": {
        "id": "lcrXxcj2_-Sq",
        "outputId": "0ce1237c-b9cf-4ecb-bdfa-9f6c20b8406b",
        "colab": {
          "base_uri": "https://localhost:8080/"
        }
      },
      "source": [
        "#LISTAS\n",
        "Estudiante = []\n",
        "Estudiante = [\"Manuel Ponte\",23,\"False\",\"campos4\", \"campos5\"]\n",
        "Estudiante"
      ],
      "execution_count": 53,
      "outputs": [
        {
          "output_type": "execute_result",
          "data": {
            "text/plain": [
              "['Manuel Ponte', 23, 'False', 'campos4', 'campos5']"
            ]
          },
          "metadata": {
            "tags": []
          },
          "execution_count": 53
        }
      ]
    },
    {
      "cell_type": "code",
      "metadata": {
        "id": "sOd_50j8BurQ",
        "outputId": "37fdeb47-9ad6-4086-b168-455a519cbac2",
        "colab": {
          "base_uri": "https://localhost:8080/",
          "height": 35
        }
      },
      "source": [
        "# primer elemento comienza con indice '0'\n",
        "Estudiante[0]"
      ],
      "execution_count": 47,
      "outputs": [
        {
          "output_type": "execute_result",
          "data": {
            "application/vnd.google.colaboratory.intrinsic+json": {
              "type": "string"
            },
            "text/plain": [
              "'Manuel Ponte'"
            ]
          },
          "metadata": {
            "tags": []
          },
          "execution_count": 47
        }
      ]
    },
    {
      "cell_type": "code",
      "metadata": {
        "id": "W8Ng6gLRB1pq",
        "outputId": "6604bf74-2af6-4edf-8ee1-aab716e9f1cb",
        "colab": {
          "base_uri": "https://localhost:8080/"
        }
      },
      "source": [
        "# todo antes de índice 2\n",
        "Estudiante[:2]"
      ],
      "execution_count": 50,
      "outputs": [
        {
          "output_type": "execute_result",
          "data": {
            "text/plain": [
              "['Manuel Ponte', 23]"
            ]
          },
          "metadata": {
            "tags": []
          },
          "execution_count": 50
        }
      ]
    },
    {
      "cell_type": "code",
      "metadata": {
        "id": "CJzMqPFDCGGK",
        "outputId": "9008a46c-366f-478b-d003-98c0a53934e2",
        "colab": {
          "base_uri": "https://localhost:8080/",
          "height": 35
        }
      },
      "source": [
        "# ultimo elementos\n",
        "Estudiante[-1]"
      ],
      "execution_count": 52,
      "outputs": [
        {
          "output_type": "execute_result",
          "data": {
            "application/vnd.google.colaboratory.intrinsic+json": {
              "type": "string"
            },
            "text/plain": [
              "'False'"
            ]
          },
          "metadata": {
            "tags": []
          },
          "execution_count": 52
        }
      ]
    },
    {
      "cell_type": "code",
      "metadata": {
        "id": "ggV9-6yVCNU6"
      },
      "source": [
        ""
      ],
      "execution_count": null,
      "outputs": []
    }
  ]
}